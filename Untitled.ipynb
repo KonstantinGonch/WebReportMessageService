{
 "cells": [
  {
   "cell_type": "code",
   "execution_count": 244,
   "id": "93483472",
   "metadata": {},
   "outputs": [],
   "source": [
    "from nltk import word_tokenize\n",
    "from sklearn.feature_extraction.text import CountVectorizer, ENGLISH_STOP_WORDS\n",
    "from nltk.corpus import stopwords\n",
    "import pandas as pd\n",
    "import numpy as np\n",
    "from sklearn.model_selection import train_test_split\n",
    "from sklearn.ensemble import RandomForestClassifier\n",
    "import joblib\n",
    "from sklearn.neighbors import KNeighborsClassifier"
   ]
  },
  {
   "cell_type": "code",
   "execution_count": 201,
   "id": "d6f1d07c",
   "metadata": {},
   "outputs": [],
   "source": [
    "df = pd.read_json('learnData.json')"
   ]
  },
  {
   "cell_type": "code",
   "execution_count": 202,
   "id": "95768c91",
   "metadata": {},
   "outputs": [],
   "source": [
    "df = df[[\"content\", \"messageType\"]]"
   ]
  },
  {
   "cell_type": "code",
   "execution_count": 203,
   "id": "b34fa83f",
   "metadata": {},
   "outputs": [],
   "source": [
    "df = df.sample(frac=1)"
   ]
  },
  {
   "cell_type": "code",
   "execution_count": 204,
   "id": "40a10432",
   "metadata": {},
   "outputs": [
    {
     "data": {
      "text/html": [
       "<div>\n",
       "<style scoped>\n",
       "    .dataframe tbody tr th:only-of-type {\n",
       "        vertical-align: middle;\n",
       "    }\n",
       "\n",
       "    .dataframe tbody tr th {\n",
       "        vertical-align: top;\n",
       "    }\n",
       "\n",
       "    .dataframe thead th {\n",
       "        text-align: right;\n",
       "    }\n",
       "</style>\n",
       "<table border=\"1\" class=\"dataframe\">\n",
       "  <thead>\n",
       "    <tr style=\"text-align: right;\">\n",
       "      <th></th>\n",
       "      <th>content</th>\n",
       "      <th>messageType</th>\n",
       "    </tr>\n",
       "  </thead>\n",
       "  <tbody>\n",
       "    <tr>\n",
       "      <th>93</th>\n",
       "      <td>Невозможно перечислить деньги через СБП</td>\n",
       "      <td>1</td>\n",
       "    </tr>\n",
       "    <tr>\n",
       "      <th>27</th>\n",
       "      <td>Отсутствует возможность войти в личный кабинет...</td>\n",
       "      <td>1</td>\n",
       "    </tr>\n",
       "    <tr>\n",
       "      <th>19</th>\n",
       "      <td>Ошибка соединения с ЦБ РФ - сертификат недейст...</td>\n",
       "      <td>1</td>\n",
       "    </tr>\n",
       "    <tr>\n",
       "      <th>81</th>\n",
       "      <td>Невозможно купить акции с помощью мобильного п...</td>\n",
       "      <td>1</td>\n",
       "    </tr>\n",
       "    <tr>\n",
       "      <th>172</th>\n",
       "      <td>Хотелось бы иметь возможность обратиться по во...</td>\n",
       "      <td>2</td>\n",
       "    </tr>\n",
       "  </tbody>\n",
       "</table>\n",
       "</div>"
      ],
      "text/plain": [
       "                                               content  messageType\n",
       "93             Невозможно перечислить деньги через СБП            1\n",
       "27   Отсутствует возможность войти в личный кабинет...            1\n",
       "19   Ошибка соединения с ЦБ РФ - сертификат недейст...            1\n",
       "81   Невозможно купить акции с помощью мобильного п...            1\n",
       "172  Хотелось бы иметь возможность обратиться по во...            2"
      ]
     },
     "execution_count": 204,
     "metadata": {},
     "output_type": "execute_result"
    }
   ],
   "source": [
    "df.head()"
   ]
  },
  {
   "cell_type": "code",
   "execution_count": 205,
   "id": "7e71428c",
   "metadata": {},
   "outputs": [],
   "source": [
    "word_tokens = [word_tokenize(review) for review in df.content]"
   ]
  },
  {
   "cell_type": "code",
   "execution_count": 206,
   "id": "8db2409a",
   "metadata": {},
   "outputs": [],
   "source": [
    "vect = CountVectorizer(ngram_range=(1, 2),\n",
    "                               max_features=200,\n",
    "                               token_pattern=r'\\b[^\\d\\W][^\\d\\W]+\\b').fit(df.content)\n",
    " \n",
    "    # Create sparse matrix from the vectorizer\n",
    "X = vect.transform(df.content)\n",
    " \n",
    "    # Create a new DataFrame\n",
    "df2 = pd.DataFrame(X.toarray(), columns=vect.get_feature_names())\n",
    "df2['y'] = df.messageType\n",
    "y = df2['y'].values"
   ]
  },
  {
   "cell_type": "code",
   "execution_count": 207,
   "id": "bc3c2dc6",
   "metadata": {},
   "outputs": [
    {
     "data": {
      "text/html": [
       "<div>\n",
       "<style scoped>\n",
       "    .dataframe tbody tr th:only-of-type {\n",
       "        vertical-align: middle;\n",
       "    }\n",
       "\n",
       "    .dataframe tbody tr th {\n",
       "        vertical-align: top;\n",
       "    }\n",
       "\n",
       "    .dataframe thead th {\n",
       "        text-align: right;\n",
       "    }\n",
       "</style>\n",
       "<table border=\"1\" class=\"dataframe\">\n",
       "  <thead>\n",
       "    <tr style=\"text-align: right;\">\n",
       "      <th></th>\n",
       "      <th>pay</th>\n",
       "      <th>pay банке</th>\n",
       "      <th>ru</th>\n",
       "      <th>union</th>\n",
       "      <th>union pay</th>\n",
       "      <th>альфа</th>\n",
       "      <th>альфа банк</th>\n",
       "      <th>банк</th>\n",
       "      <th>банк санкт</th>\n",
       "      <th>банка</th>\n",
       "      <th>...</th>\n",
       "      <th>хоум</th>\n",
       "      <th>хоум кредит</th>\n",
       "      <th>цб</th>\n",
       "      <th>через</th>\n",
       "      <th>через банк</th>\n",
       "      <th>через приложение</th>\n",
       "      <th>экран</th>\n",
       "      <th>яндекса</th>\n",
       "      <th>яндекса приложении</th>\n",
       "      <th>y</th>\n",
       "    </tr>\n",
       "  </thead>\n",
       "  <tbody>\n",
       "    <tr>\n",
       "      <th>0</th>\n",
       "      <td>0</td>\n",
       "      <td>0</td>\n",
       "      <td>0</td>\n",
       "      <td>0</td>\n",
       "      <td>0</td>\n",
       "      <td>0</td>\n",
       "      <td>0</td>\n",
       "      <td>0</td>\n",
       "      <td>0</td>\n",
       "      <td>0</td>\n",
       "      <td>...</td>\n",
       "      <td>0</td>\n",
       "      <td>0</td>\n",
       "      <td>0</td>\n",
       "      <td>1</td>\n",
       "      <td>0</td>\n",
       "      <td>0</td>\n",
       "      <td>0</td>\n",
       "      <td>0</td>\n",
       "      <td>0</td>\n",
       "      <td>1</td>\n",
       "    </tr>\n",
       "    <tr>\n",
       "      <th>1</th>\n",
       "      <td>0</td>\n",
       "      <td>0</td>\n",
       "      <td>0</td>\n",
       "      <td>0</td>\n",
       "      <td>0</td>\n",
       "      <td>0</td>\n",
       "      <td>0</td>\n",
       "      <td>0</td>\n",
       "      <td>0</td>\n",
       "      <td>0</td>\n",
       "      <td>...</td>\n",
       "      <td>0</td>\n",
       "      <td>0</td>\n",
       "      <td>1</td>\n",
       "      <td>0</td>\n",
       "      <td>0</td>\n",
       "      <td>0</td>\n",
       "      <td>0</td>\n",
       "      <td>0</td>\n",
       "      <td>0</td>\n",
       "      <td>1</td>\n",
       "    </tr>\n",
       "    <tr>\n",
       "      <th>2</th>\n",
       "      <td>0</td>\n",
       "      <td>0</td>\n",
       "      <td>0</td>\n",
       "      <td>0</td>\n",
       "      <td>0</td>\n",
       "      <td>0</td>\n",
       "      <td>0</td>\n",
       "      <td>0</td>\n",
       "      <td>0</td>\n",
       "      <td>0</td>\n",
       "      <td>...</td>\n",
       "      <td>0</td>\n",
       "      <td>0</td>\n",
       "      <td>1</td>\n",
       "      <td>0</td>\n",
       "      <td>0</td>\n",
       "      <td>0</td>\n",
       "      <td>0</td>\n",
       "      <td>0</td>\n",
       "      <td>0</td>\n",
       "      <td>1</td>\n",
       "    </tr>\n",
       "    <tr>\n",
       "      <th>3</th>\n",
       "      <td>0</td>\n",
       "      <td>0</td>\n",
       "      <td>0</td>\n",
       "      <td>0</td>\n",
       "      <td>0</td>\n",
       "      <td>0</td>\n",
       "      <td>0</td>\n",
       "      <td>0</td>\n",
       "      <td>0</td>\n",
       "      <td>0</td>\n",
       "      <td>...</td>\n",
       "      <td>0</td>\n",
       "      <td>0</td>\n",
       "      <td>0</td>\n",
       "      <td>0</td>\n",
       "      <td>0</td>\n",
       "      <td>0</td>\n",
       "      <td>0</td>\n",
       "      <td>0</td>\n",
       "      <td>0</td>\n",
       "      <td>1</td>\n",
       "    </tr>\n",
       "    <tr>\n",
       "      <th>4</th>\n",
       "      <td>0</td>\n",
       "      <td>0</td>\n",
       "      <td>0</td>\n",
       "      <td>0</td>\n",
       "      <td>0</td>\n",
       "      <td>0</td>\n",
       "      <td>0</td>\n",
       "      <td>1</td>\n",
       "      <td>0</td>\n",
       "      <td>1</td>\n",
       "      <td>...</td>\n",
       "      <td>1</td>\n",
       "      <td>1</td>\n",
       "      <td>0</td>\n",
       "      <td>1</td>\n",
       "      <td>0</td>\n",
       "      <td>1</td>\n",
       "      <td>0</td>\n",
       "      <td>0</td>\n",
       "      <td>0</td>\n",
       "      <td>1</td>\n",
       "    </tr>\n",
       "  </tbody>\n",
       "</table>\n",
       "<p>5 rows × 201 columns</p>\n",
       "</div>"
      ],
      "text/plain": [
       "   pay  pay банке  ru  union  union pay  альфа  альфа банк  банк  банк санкт  \\\n",
       "0    0          0   0      0          0      0           0     0           0   \n",
       "1    0          0   0      0          0      0           0     0           0   \n",
       "2    0          0   0      0          0      0           0     0           0   \n",
       "3    0          0   0      0          0      0           0     0           0   \n",
       "4    0          0   0      0          0      0           0     1           0   \n",
       "\n",
       "   банка  ...  хоум  хоум кредит  цб  через  через банк  через приложение  \\\n",
       "0      0  ...     0            0   0      1           0                 0   \n",
       "1      0  ...     0            0   1      0           0                 0   \n",
       "2      0  ...     0            0   1      0           0                 0   \n",
       "3      0  ...     0            0   0      0           0                 0   \n",
       "4      1  ...     1            1   0      1           0                 1   \n",
       "\n",
       "   экран  яндекса  яндекса приложении  y  \n",
       "0      0        0                   0  1  \n",
       "1      0        0                   0  1  \n",
       "2      0        0                   0  1  \n",
       "3      0        0                   0  1  \n",
       "4      0        0                   0  1  \n",
       "\n",
       "[5 rows x 201 columns]"
      ]
     },
     "execution_count": 207,
     "metadata": {},
     "output_type": "execute_result"
    }
   ],
   "source": [
    "df2.head()"
   ]
  },
  {
   "cell_type": "code",
   "execution_count": 257,
   "id": "271b8242",
   "metadata": {},
   "outputs": [],
   "source": [
    "X_train, X_test, y_train, y_test = train_test_split(X, y,\n",
    "                                                        test_size=0.80,\n",
    "                                                        stratify=y,\n",
    "                                                        random_state=100)"
   ]
  },
  {
   "cell_type": "code",
   "execution_count": 268,
   "id": "052fbf27",
   "metadata": {},
   "outputs": [
    {
     "data": {
      "text/plain": [
       "KNeighborsClassifier()"
      ]
     },
     "execution_count": 268,
     "metadata": {},
     "output_type": "execute_result"
    }
   ],
   "source": [
    "model = KNeighborsClassifier(n_neighbors=5)\n",
    "\n",
    " \n",
    "model.fit(X, y)"
   ]
  },
  {
   "cell_type": "code",
   "execution_count": 272,
   "id": "df2ecead",
   "metadata": {},
   "outputs": [],
   "source": [
    "message = \"Хотелось иметь возможность выбора категорий повышенного кешбэка в приложении банка Почта-банк\"\n",
    "messageData = {\"content\" : message}\n",
    "X_m = vect.transform(messageData)"
   ]
  },
  {
   "cell_type": "code",
   "execution_count": 273,
   "id": "57eedfd1",
   "metadata": {},
   "outputs": [],
   "source": [
    "t = model.predict(X_m)"
   ]
  },
  {
   "cell_type": "code",
   "execution_count": 274,
   "id": "7ee811bf",
   "metadata": {},
   "outputs": [
    {
     "data": {
      "text/plain": [
       "[1]"
      ]
     },
     "execution_count": 274,
     "metadata": {},
     "output_type": "execute_result"
    }
   ],
   "source": [
    "list(t)"
   ]
  },
  {
   "cell_type": "code",
   "execution_count": 275,
   "id": "13d4d11c",
   "metadata": {},
   "outputs": [
    {
     "data": {
      "text/plain": [
       "['randomforest_model.pkl']"
      ]
     },
     "execution_count": 275,
     "metadata": {},
     "output_type": "execute_result"
    }
   ],
   "source": [
    "joblib.dump(model,'randomforest_model.pkl')"
   ]
  },
  {
   "cell_type": "code",
   "execution_count": null,
   "id": "d8d162c8",
   "metadata": {},
   "outputs": [],
   "source": []
  }
 ],
 "metadata": {
  "kernelspec": {
   "display_name": "Python 3",
   "language": "python",
   "name": "python3"
  },
  "language_info": {
   "codemirror_mode": {
    "name": "ipython",
    "version": 3
   },
   "file_extension": ".py",
   "mimetype": "text/x-python",
   "name": "python",
   "nbconvert_exporter": "python",
   "pygments_lexer": "ipython3",
   "version": "3.8.8"
  }
 },
 "nbformat": 4,
 "nbformat_minor": 5
}
