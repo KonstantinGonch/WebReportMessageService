{
 "cells": [
  {
   "cell_type": "code",
   "execution_count": 1,
   "id": "56c88a9e",
   "metadata": {},
   "outputs": [],
   "source": [
    "from nltk import word_tokenize\n",
    "from sklearn.feature_extraction.text import CountVectorizer, ENGLISH_STOP_WORDS\n",
    "from nltk.corpus import stopwords\n",
    "import pandas as pd\n",
    "import numpy as np\n",
    "from sklearn.model_selection import train_test_split\n",
    "from sklearn.ensemble import RandomForestClassifier\n",
    "import joblib\n",
    "from sklearn.neighbors import KNeighborsClassifier"
   ]
  },
  {
   "cell_type": "code",
   "execution_count": 2,
   "id": "d6ff5271",
   "metadata": {},
   "outputs": [],
   "source": [
    "df = pd.read_json('learnData.json')"
   ]
  },
  {
   "cell_type": "code",
   "execution_count": 3,
   "id": "5a255039",
   "metadata": {},
   "outputs": [],
   "source": [
    "df = df[[\"content\", \"messageType\"]]"
   ]
  },
  {
   "cell_type": "code",
   "execution_count": 4,
   "id": "be4865fd",
   "metadata": {},
   "outputs": [],
   "source": [
    "df = df.sample(frac=1)"
   ]
  },
  {
   "cell_type": "code",
   "execution_count": 5,
   "id": "19bbed63",
   "metadata": {},
   "outputs": [
    {
     "data": {
      "text/html": [
       "<div>\n",
       "<style scoped>\n",
       "    .dataframe tbody tr th:only-of-type {\n",
       "        vertical-align: middle;\n",
       "    }\n",
       "\n",
       "    .dataframe tbody tr th {\n",
       "        vertical-align: top;\n",
       "    }\n",
       "\n",
       "    .dataframe thead th {\n",
       "        text-align: right;\n",
       "    }\n",
       "</style>\n",
       "<table border=\"1\" class=\"dataframe\">\n",
       "  <thead>\n",
       "    <tr style=\"text-align: right;\">\n",
       "      <th></th>\n",
       "      <th>content</th>\n",
       "      <th>messageType</th>\n",
       "    </tr>\n",
       "  </thead>\n",
       "  <tbody>\n",
       "    <tr>\n",
       "      <th>61</th>\n",
       "      <td>Ошибка оплаты ЖКХ в мобильном приложении Совко...</td>\n",
       "      <td>1</td>\n",
       "    </tr>\n",
       "    <tr>\n",
       "      <th>166</th>\n",
       "      <td>Хотелось бы иметь возможность обратиться по во...</td>\n",
       "      <td>2</td>\n",
       "    </tr>\n",
       "    <tr>\n",
       "      <th>3</th>\n",
       "      <td>Ошибка при попытке перевода денежных средств н...</td>\n",
       "      <td>1</td>\n",
       "    </tr>\n",
       "    <tr>\n",
       "      <th>153</th>\n",
       "      <td>Хотелось бы иметь возможность делать переводы ...</td>\n",
       "      <td>2</td>\n",
       "    </tr>\n",
       "    <tr>\n",
       "      <th>43</th>\n",
       "      <td>Некорректное отображение информации на сайте б...</td>\n",
       "      <td>1</td>\n",
       "    </tr>\n",
       "  </tbody>\n",
       "</table>\n",
       "</div>"
      ],
      "text/plain": [
       "                                               content  messageType\n",
       "61   Ошибка оплаты ЖКХ в мобильном приложении Совко...            1\n",
       "166  Хотелось бы иметь возможность обратиться по во...            2\n",
       "3    Ошибка при попытке перевода денежных средств н...            1\n",
       "153  Хотелось бы иметь возможность делать переводы ...            2\n",
       "43   Некорректное отображение информации на сайте б...            1"
      ]
     },
     "execution_count": 5,
     "metadata": {},
     "output_type": "execute_result"
    }
   ],
   "source": [
    "df.head()"
   ]
  },
  {
   "cell_type": "code",
   "execution_count": 6,
   "id": "a154798b",
   "metadata": {},
   "outputs": [],
   "source": [
    "word_tokens = [word_tokenize(review) for review in df.content]"
   ]
  },
  {
   "cell_type": "code",
   "execution_count": 7,
   "id": "5d19aad4",
   "metadata": {},
   "outputs": [],
   "source": [
    "vect = CountVectorizer(ngram_range=(1, 2),\n",
    "                               max_features=25,\n",
    "                               token_pattern=r'\\b[^\\d\\W][^\\d\\W]+\\b').fit(df.content)\n",
    " \n",
    "    # Create sparse matrix from the vectorizer\n",
    "X = vect.transform(df.content)\n",
    " \n",
    "    # Create a new DataFrame\n",
    "df2 = pd.DataFrame(X.toarray(), columns=vect.get_feature_names())\n",
    "df2['y'] = df.messageType\n",
    "y = df2['y'].values"
   ]
  },
  {
   "cell_type": "code",
   "execution_count": 8,
   "id": "d01a661a",
   "metadata": {},
   "outputs": [
    {
     "data": {
      "text/html": [
       "<div>\n",
       "<style scoped>\n",
       "    .dataframe tbody tr th:only-of-type {\n",
       "        vertical-align: middle;\n",
       "    }\n",
       "\n",
       "    .dataframe tbody tr th {\n",
       "        vertical-align: top;\n",
       "    }\n",
       "\n",
       "    .dataframe thead th {\n",
       "        text-align: right;\n",
       "    }\n",
       "</style>\n",
       "<table border=\"1\" class=\"dataframe\">\n",
       "  <thead>\n",
       "    <tr style=\"text-align: right;\">\n",
       "      <th></th>\n",
       "      <th>банк</th>\n",
       "      <th>банка</th>\n",
       "      <th>банке</th>\n",
       "      <th>бы</th>\n",
       "      <th>бы иметь</th>\n",
       "      <th>возможность</th>\n",
       "      <th>втб</th>\n",
       "      <th>иметь</th>\n",
       "      <th>иметь возможность</th>\n",
       "      <th>ли</th>\n",
       "      <th>...</th>\n",
       "      <th>приложение</th>\n",
       "      <th>приложении</th>\n",
       "      <th>сайт</th>\n",
       "      <th>сайте</th>\n",
       "      <th>сбой</th>\n",
       "      <th>тинькофф</th>\n",
       "      <th>хотелось</th>\n",
       "      <th>хотелось бы</th>\n",
       "      <th>через</th>\n",
       "      <th>y</th>\n",
       "    </tr>\n",
       "  </thead>\n",
       "  <tbody>\n",
       "    <tr>\n",
       "      <th>0</th>\n",
       "      <td>0</td>\n",
       "      <td>0</td>\n",
       "      <td>0</td>\n",
       "      <td>0</td>\n",
       "      <td>0</td>\n",
       "      <td>0</td>\n",
       "      <td>0</td>\n",
       "      <td>0</td>\n",
       "      <td>0</td>\n",
       "      <td>0</td>\n",
       "      <td>...</td>\n",
       "      <td>0</td>\n",
       "      <td>1</td>\n",
       "      <td>0</td>\n",
       "      <td>0</td>\n",
       "      <td>0</td>\n",
       "      <td>0</td>\n",
       "      <td>0</td>\n",
       "      <td>0</td>\n",
       "      <td>0</td>\n",
       "      <td>1</td>\n",
       "    </tr>\n",
       "    <tr>\n",
       "      <th>1</th>\n",
       "      <td>1</td>\n",
       "      <td>1</td>\n",
       "      <td>0</td>\n",
       "      <td>1</td>\n",
       "      <td>1</td>\n",
       "      <td>1</td>\n",
       "      <td>0</td>\n",
       "      <td>1</td>\n",
       "      <td>1</td>\n",
       "      <td>0</td>\n",
       "      <td>...</td>\n",
       "      <td>1</td>\n",
       "      <td>0</td>\n",
       "      <td>0</td>\n",
       "      <td>0</td>\n",
       "      <td>0</td>\n",
       "      <td>0</td>\n",
       "      <td>1</td>\n",
       "      <td>1</td>\n",
       "      <td>1</td>\n",
       "      <td>1</td>\n",
       "    </tr>\n",
       "    <tr>\n",
       "      <th>2</th>\n",
       "      <td>1</td>\n",
       "      <td>0</td>\n",
       "      <td>0</td>\n",
       "      <td>0</td>\n",
       "      <td>0</td>\n",
       "      <td>0</td>\n",
       "      <td>0</td>\n",
       "      <td>0</td>\n",
       "      <td>0</td>\n",
       "      <td>0</td>\n",
       "      <td>...</td>\n",
       "      <td>0</td>\n",
       "      <td>0</td>\n",
       "      <td>0</td>\n",
       "      <td>0</td>\n",
       "      <td>0</td>\n",
       "      <td>0</td>\n",
       "      <td>0</td>\n",
       "      <td>0</td>\n",
       "      <td>0</td>\n",
       "      <td>1</td>\n",
       "    </tr>\n",
       "    <tr>\n",
       "      <th>3</th>\n",
       "      <td>0</td>\n",
       "      <td>0</td>\n",
       "      <td>1</td>\n",
       "      <td>1</td>\n",
       "      <td>1</td>\n",
       "      <td>1</td>\n",
       "      <td>1</td>\n",
       "      <td>1</td>\n",
       "      <td>1</td>\n",
       "      <td>0</td>\n",
       "      <td>...</td>\n",
       "      <td>0</td>\n",
       "      <td>0</td>\n",
       "      <td>0</td>\n",
       "      <td>0</td>\n",
       "      <td>0</td>\n",
       "      <td>0</td>\n",
       "      <td>1</td>\n",
       "      <td>1</td>\n",
       "      <td>0</td>\n",
       "      <td>1</td>\n",
       "    </tr>\n",
       "    <tr>\n",
       "      <th>4</th>\n",
       "      <td>0</td>\n",
       "      <td>1</td>\n",
       "      <td>0</td>\n",
       "      <td>0</td>\n",
       "      <td>0</td>\n",
       "      <td>0</td>\n",
       "      <td>0</td>\n",
       "      <td>0</td>\n",
       "      <td>0</td>\n",
       "      <td>0</td>\n",
       "      <td>...</td>\n",
       "      <td>0</td>\n",
       "      <td>0</td>\n",
       "      <td>0</td>\n",
       "      <td>1</td>\n",
       "      <td>0</td>\n",
       "      <td>0</td>\n",
       "      <td>0</td>\n",
       "      <td>0</td>\n",
       "      <td>0</td>\n",
       "      <td>1</td>\n",
       "    </tr>\n",
       "  </tbody>\n",
       "</table>\n",
       "<p>5 rows × 26 columns</p>\n",
       "</div>"
      ],
      "text/plain": [
       "   банк  банка  банке  бы  бы иметь  возможность  втб  иметь  \\\n",
       "0     0      0      0   0         0            0    0      0   \n",
       "1     1      1      0   1         1            1    0      1   \n",
       "2     1      0      0   0         0            0    0      0   \n",
       "3     0      0      1   1         1            1    1      1   \n",
       "4     0      1      0   0         0            0    0      0   \n",
       "\n",
       "   иметь возможность  ли  ...  приложение  приложении  сайт  сайте  сбой  \\\n",
       "0                  0   0  ...           0           1     0      0     0   \n",
       "1                  1   0  ...           1           0     0      0     0   \n",
       "2                  0   0  ...           0           0     0      0     0   \n",
       "3                  1   0  ...           0           0     0      0     0   \n",
       "4                  0   0  ...           0           0     0      1     0   \n",
       "\n",
       "   тинькофф  хотелось  хотелось бы  через  y  \n",
       "0         0         0            0      0  1  \n",
       "1         0         1            1      1  1  \n",
       "2         0         0            0      0  1  \n",
       "3         0         1            1      0  1  \n",
       "4         0         0            0      0  1  \n",
       "\n",
       "[5 rows x 26 columns]"
      ]
     },
     "execution_count": 8,
     "metadata": {},
     "output_type": "execute_result"
    }
   ],
   "source": [
    "df2.head()"
   ]
  },
  {
   "cell_type": "code",
   "execution_count": 9,
   "id": "f143cdfd",
   "metadata": {},
   "outputs": [],
   "source": [
    "X_train, X_test, y_train, y_test = train_test_split(X, y,\n",
    "                                                        test_size=0.80,\n",
    "                                                        stratify=y,\n",
    "                                                        random_state=100)"
   ]
  },
  {
   "cell_type": "code",
   "execution_count": 10,
   "id": "76dd4f0b",
   "metadata": {},
   "outputs": [
    {
     "data": {
      "text/plain": [
       "KNeighborsClassifier(n_neighbors=2)"
      ]
     },
     "execution_count": 10,
     "metadata": {},
     "output_type": "execute_result"
    }
   ],
   "source": [
    "model = KNeighborsClassifier(n_neighbors=2)\n",
    "\n",
    " \n",
    "model.fit(X, y)"
   ]
  },
  {
   "cell_type": "code",
   "execution_count": 11,
   "id": "46af3ce3",
   "metadata": {},
   "outputs": [],
   "source": [
    "message = \"Хотелось иметь возможность выбора категорий повышенного кешбэка в приложении банка Почта-банк\"\n",
    "messageData = {\"content\" : message}\n",
    "X_m = vect.transform(messageData)"
   ]
  },
  {
   "cell_type": "code",
   "execution_count": 12,
   "id": "7639c286",
   "metadata": {},
   "outputs": [],
   "source": [
    "t = model.predict(X_m)"
   ]
  },
  {
   "cell_type": "code",
   "execution_count": 13,
   "id": "9d1c47f8",
   "metadata": {},
   "outputs": [
    {
     "data": {
      "text/plain": [
       "[1]"
      ]
     },
     "execution_count": 13,
     "metadata": {},
     "output_type": "execute_result"
    }
   ],
   "source": [
    "list(t)"
   ]
  },
  {
   "cell_type": "code",
   "execution_count": 15,
   "id": "9c64949c",
   "metadata": {},
   "outputs": [
    {
     "data": {
      "text/plain": [
       "['model.pkl']"
      ]
     },
     "execution_count": 15,
     "metadata": {},
     "output_type": "execute_result"
    }
   ],
   "source": [
    "joblib.dump(model,'model.pkl')"
   ]
  },
  {
   "cell_type": "code",
   "execution_count": 14,
   "id": "542aeb30",
   "metadata": {},
   "outputs": [
    {
     "data": {
      "text/plain": [
       "['vect.pkl']"
      ]
     },
     "execution_count": 14,
     "metadata": {},
     "output_type": "execute_result"
    }
   ],
   "source": [
    "joblib.dump(vect,'vect.pkl')"
   ]
  },
  {
   "cell_type": "code",
   "execution_count": null,
   "id": "35f12dc8",
   "metadata": {},
   "outputs": [],
   "source": []
  }
 ],
 "metadata": {
  "kernelspec": {
   "display_name": "Python 3",
   "language": "python",
   "name": "python3"
  },
  "language_info": {
   "codemirror_mode": {
    "name": "ipython",
    "version": 3
   },
   "file_extension": ".py",
   "mimetype": "text/x-python",
   "name": "python",
   "nbconvert_exporter": "python",
   "pygments_lexer": "ipython3",
   "version": "3.8.8"
  }
 },
 "nbformat": 4,
 "nbformat_minor": 5
}
